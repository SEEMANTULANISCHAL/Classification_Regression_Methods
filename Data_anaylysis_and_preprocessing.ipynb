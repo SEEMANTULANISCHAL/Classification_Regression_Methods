{
  "nbformat": 4,
  "nbformat_minor": 0,
  "metadata": {
    "colab": {
      "provenance": []
    },
    "kernelspec": {
      "name": "python3",
      "display_name": "Python 3"
    },
    "language_info": {
      "name": "python"
    }
  },
  "cells": [
    {
      "cell_type": "code",
      "execution_count": 2,
      "metadata": {
        "colab": {
          "base_uri": "https://localhost:8080/"
        },
        "id": "TwoAqNgSpjV9",
        "outputId": "efd4c7d0-f2b7-4931-e289-cc51acf6bbf2"
      },
      "outputs": [
        {
          "output_type": "execute_result",
          "data": {
            "text/plain": [
              "(  species     island  calorie requirement  average sleep duration  \\\n",
              " 0  Adelie  Torgersen                 6563                      11   \n",
              " 1  Adelie  Torgersen                 4890                      14   \n",
              " 2  Adelie  Torgersen                 7184                      11   \n",
              " 3  Adelie  Torgersen                 4169                       8   \n",
              " 4  Adelie  Torgersen                 4774                       8   \n",
              " \n",
              "    bill_length_mm  bill_depth_mm  flipper_length_mm  body_mass_g  gender  \\\n",
              " 0       39.100000      18.700000         181.000000       3750.0    male   \n",
              " 1       39.500000      17.400000         186.000000       3800.0  female   \n",
              " 2       40.300000      18.000000         195.000000       3250.0  female   \n",
              " 3       45.494214      18.018318         197.764881        992.0    male   \n",
              " 4       36.700000      19.300000         193.000000       3450.0  female   \n",
              " \n",
              "      year       BMI  \n",
              " 0  2007.0  5.128766  \n",
              " 1  2007.0  5.528881  \n",
              " 2  2007.0  4.480287  \n",
              " 3  2007.0  1.210156  \n",
              " 4  2007.0  4.870749  ,\n",
              "        calorie requirement  average sleep duration  bill_length_mm  \\\n",
              " count           344.000000              344.000000      344.000000   \n",
              " mean           5270.002907               10.447674       45.494214   \n",
              " std            1067.959116                2.265895       10.704852   \n",
              " min            3504.000000                7.000000       32.100000   \n",
              " 25%            4403.000000                9.000000       39.600000   \n",
              " 50%            5106.500000               10.000000       45.200000   \n",
              " 75%            6212.750000               12.000000       49.000000   \n",
              " max            7197.000000               14.000000      124.300000   \n",
              " \n",
              "        bill_depth_mm  flipper_length_mm  body_mass_g         year         BMI  \n",
              " count     344.000000         344.000000   344.000000   342.000000  344.000000  \n",
              " mean       18.018318         197.764881  4175.463127  2008.035088    5.523940  \n",
              " std         9.091991          27.438796   852.431447     0.816938    1.476061  \n",
              " min        13.100000          10.000000   882.000000  2007.000000    0.543755  \n",
              " 25%        15.700000         190.000000  3550.000000  2007.000000    4.616124  \n",
              " 50%        17.500000         197.000000  4050.000000  2008.000000    5.369944  \n",
              " 75%        18.700000         213.000000  4750.000000  2009.000000    6.731964  \n",
              " max       127.260000         231.000000  6300.000000  2009.000000    8.896955  )"
            ]
          },
          "metadata": {},
          "execution_count": 2
        }
      ],
      "source": [
        "# Part 1: Data Analysis & Preprocessing [10 Points]\n",
        "\n",
        "# Importing necessary libraries\n",
        "import pandas as pd\n",
        "\n",
        "# Load dataset - penguins.csv\n",
        "penguins_df = pd.read_csv('/content/penguins.csv')\n",
        "\n",
        "# Handling missing values by filling them with the mean for numeric columns\n",
        "penguins_df['bill_length_mm'].fillna(penguins_df['bill_length_mm'].mean(), inplace=True)\n",
        "penguins_df['bill_depth_mm'].fillna(penguins_df['bill_depth_mm'].mean(), inplace=True)\n",
        "penguins_df['flipper_length_mm'].fillna(penguins_df['flipper_length_mm'].mean(), inplace=True)\n",
        "penguins_df['body_mass_g'].fillna(penguins_df['body_mass_g'].mean(), inplace=True)\n",
        "\n",
        "# Handling categorical missing values by filling with mode\n",
        "penguins_df['gender'].fillna(penguins_df['gender'].mode()[0], inplace=True)\n",
        "\n",
        "# Data transformation: Adding a new column for BMI (Body Mass Index) estimation for penguins\n",
        "penguins_df['BMI'] = penguins_df['body_mass_g'] / (penguins_df['bill_length_mm'] * penguins_df['bill_depth_mm'])\n",
        "\n",
        "# Summary statistics after preprocessing\n",
        "penguins_summary = penguins_df.describe()\n",
        "\n",
        "# Show the cleaned dataset head and summary\n",
        "penguins_df.head(), penguins_summary"
      ]
    },
    {
      "cell_type": "code",
      "source": [
        "# Part 2: Data Cleaning & Analysis on Other Datasets [10 Points]\n",
        "\n",
        "# Load dataset - diamond.csv\n",
        "diamond_df = pd.read_csv('/content/diamond.csv')\n",
        "\n",
        "# Dropping unnecessary column 'Unnamed: 0'\n",
        "diamond_df = diamond_df.drop(columns=['Unnamed: 0'])\n",
        "\n",
        "# Ensure 'carat', 'depth', and 'table' columns are of type float\n",
        "diamond_df['carat'] = pd.to_numeric(diamond_df['carat'], errors='coerce')\n",
        "diamond_df['depth'] = pd.to_numeric(diamond_df['depth'], errors='coerce')\n",
        "diamond_df['table'] = pd.to_numeric(diamond_df['table'], errors='coerce')\n",
        "\n",
        "# Handling missing values in numeric columns by using mean\n",
        "diamond_df['carat'].fillna(diamond_df['carat'].mean(), inplace=True)\n",
        "diamond_df['depth'].fillna(diamond_df['depth'].mean(), inplace=True)\n",
        "diamond_df['table'].fillna(diamond_df['table'].mean(), inplace=True)\n",
        "\n",
        "\n",
        "# Handling categorical missing values by using mode\n",
        "diamond_df['cut'].fillna(diamond_df['cut'].mode()[0], inplace=True)\n",
        "diamond_df['color'].fillna(diamond_df['color'].mode()[0], inplace=True)\n",
        "\n",
        "# Summary statistics after cleaning\n",
        "diamond_summary = diamond_df.describe()\n",
        "\n",
        "# Load dataset - breeding_bird_atlas.csv\n",
        "bird_df = pd.read_csv('/content/breeding_bird_atlas.csv')\n",
        "\n",
        "# Dropping unnecessary columns\n",
        "bird_df = bird_df.drop(columns=['Map Link', 'Family Name', 'Family Description', 'Average UB Student GPA'])\n",
        "\n",
        "# Handling missing values in 'Temperature' by filling with mean\n",
        "bird_df['Temperature'].fillna(bird_df['Temperature'].mean(), inplace=True)\n",
        "\n",
        "# Data transformation: Adding a new column to indicate if bird sighting occurred in a Federal Protected Area\n",
        "bird_df['Protected Area Sighting'] = bird_df['NYS Protection Status'].apply(lambda x: 'Yes' if x == 'Protected' else 'No')\n",
        "\n",
        "# Summary statistics for bird dataset\n",
        "bird_summary = bird_df.describe()\n",
        "\n",
        "# Showing cleaned data head for diamond and bird datasets, along with their summaries\n",
        "diamond_df.head(), diamond_summary, bird_df.head(), bird_summary\n"
      ],
      "metadata": {
        "colab": {
          "base_uri": "https://localhost:8080/"
        },
        "id": "ItcqgQevqp-i",
        "outputId": "4a51f65c-00d9-42ce-ea80-53eca26f8891"
      },
      "execution_count": 4,
      "outputs": [
        {
          "output_type": "execute_result",
          "data": {
            "text/plain": [
              "(   carat      cut color clarity  average us salary  \\\n",
              " 0   0.23    Ideal     E     SI2              31282   \n",
              " 1   0.21  Premium     E     SI1              40049   \n",
              " 2   0.23     Good     E     VS1              33517   \n",
              " 3   0.29  Premium     I     VS2              38495   \n",
              " 4   0.31     Good     J     SI2              34178   \n",
              " \n",
              "    number of diamonds mined (millions)  depth  table price     x     y     z  \n",
              " 0                                 5.01   61.5   55.0   326  3.95  3.98  2.43  \n",
              " 1                                 1.69   59.8   61.0   326  3.89  3.84  2.31  \n",
              " 2                                 3.85   56.9   65.0   327  4.05  4.07  2.31  \n",
              " 3                                 3.49   62.4   58.0   334   4.2  4.23  2.63  \n",
              " 4                                 4.70   63.3   58.0   335  4.34  4.35  2.75  ,\n",
              "               carat  average us salary  number of diamonds mined (millions)  \\\n",
              " count  53940.000000       53940.000000                         53940.000000   \n",
              " mean       0.797823       39521.990100                             2.902669   \n",
              " std        0.460984        5486.892971                             1.325985   \n",
              " min        0.200000       30000.000000                             0.600000   \n",
              " 25%        0.400000       34780.000000                             1.750000   \n",
              " 50%        0.720000       39547.500000                             2.910000   \n",
              " 75%        1.030000       44252.000000                             4.050000   \n",
              " max        5.010000       48999.000000                             5.200000   \n",
              " \n",
              "               depth         table  \n",
              " count  53940.000000  53940.000000  \n",
              " mean      61.750175     57.456332  \n",
              " std        1.405655      2.170579  \n",
              " min       43.000000     43.000000  \n",
              " 25%       61.100000     56.000000  \n",
              " 50%       61.800000     57.000000  \n",
              " 75%       62.500000     59.000000  \n",
              " max       79.000000     95.000000  ,\n",
              "    Fed. Region Block ID  County          Common Name        Scientific Name  \\\n",
              " 0          NaN    5773C     NaN                  NaN                     12   \n",
              " 1          8.0    5569B  ALBANY     Alder Flycatcher      Empidonax alnorum   \n",
              " 2          8.0    5773C  ALBANY  American Black Duck          Anas rubripes   \n",
              " 3          8.0    5872A  ALBANY  American Black Duck          Anas rubripes   \n",
              " 4          8.0    5570D  ALBANY        American Crow  Corvus brachyrhynchos   \n",
              " \n",
              "   NYS Protection Status                                  Breeding Behavior  \\\n",
              " 0                    10  singing male present on more than one date in ...   \n",
              " 1             Protected  Nest and eggs, bird on nest or egg, or eggshel...   \n",
              " 2          Game Species  Pair observed in suitable habitat in breeding ...   \n",
              " 3          Game Species  Species seen in possible nesting habitat or si...   \n",
              " 4          Game Species  Singing male present on more than one date in ...   \n",
              " \n",
              "    Month  Day    Year  Temperature Breeding Status Protected Area Sighting  \n",
              " 0    NaN  NaN  1985.0           59        Probable                      No  \n",
              " 1    NaN  NaN  1985.0           78       Confirmed                     Yes  \n",
              " 2    NaN  NaN  1985.0           72        Probable                      No  \n",
              " 3    NaN  NaN  1985.0           52        Possible                      No  \n",
              " 4    NaN  NaN  1985.0           28        Probable                      No  ,\n",
              "          Fed. Region        Month          Day           Year    Temperature\n",
              " count  355787.000000  3426.000000  9338.000000  351102.000000  361582.000000\n",
              " mean        5.855652    49.772329    49.511994    1964.180056      49.467487\n",
              " std         5.836586    28.659289    28.794700     190.069866      17.322758\n",
              " min         0.000000     0.000000     0.000000       0.000000      20.000000\n",
              " 25%         3.000000    26.000000    25.000000    1982.000000      34.000000\n",
              " 50%         6.000000    50.000000    49.000000    1983.000000      49.000000\n",
              " 75%         8.000000    74.000000    75.000000    1984.000000      64.000000\n",
              " max        99.000000    99.000000    99.000000    1985.000000      79.000000)"
            ]
          },
          "metadata": {},
          "execution_count": 4
        }
      ]
    },
    {
      "cell_type": "code",
      "source": [
        "!git clone \"https://github.com/SEEMANTULANISCHAL/Classification_Regression_Methods.git\""
      ],
      "metadata": {
        "colab": {
          "base_uri": "https://localhost:8080/"
        },
        "id": "VmrnBbuMsGDh",
        "outputId": "03fd7878-01c0-4177-d916-16b299479d10"
      },
      "execution_count": 5,
      "outputs": [
        {
          "output_type": "stream",
          "name": "stdout",
          "text": [
            "Cloning into 'Classification_Regression_Methods'...\n",
            "remote: Enumerating objects: 37, done.\u001b[K\n",
            "remote: Counting objects: 100% (37/37), done.\u001b[K\n",
            "remote: Compressing objects: 100% (30/30), done.\u001b[K\n",
            "remote: Total 37 (delta 4), reused 32 (delta 2), pack-reused 0 (from 0)\u001b[K\n",
            "Receiving objects: 100% (37/37), 10.23 MiB | 7.17 MiB/s, done.\n",
            "Resolving deltas: 100% (4/4), done.\n"
          ]
        }
      ]
    },
    {
      "cell_type": "code",
      "source": [
        "!git push"
      ],
      "metadata": {
        "colab": {
          "base_uri": "https://localhost:8080/"
        },
        "id": "tBmsZUhdsdKK",
        "outputId": "dea0194b-1375-4220-9a88-3e134622c0e8"
      },
      "execution_count": 9,
      "outputs": [
        {
          "output_type": "stream",
          "name": "stdout",
          "text": [
            "fatal: not a git repository (or any of the parent directories): .git\n"
          ]
        }
      ]
    },
    {
      "cell_type": "code",
      "source": [
        "!cd /content/Classification_Regression_Methods/Data_Analysis_Preprocessing.ipynb"
      ],
      "metadata": {
        "colab": {
          "base_uri": "https://localhost:8080/"
        },
        "id": "pPShS3KHtYLt",
        "outputId": "70c13e3f-c80a-4110-f43d-87cb39d5f335"
      },
      "execution_count": 8,
      "outputs": [
        {
          "output_type": "stream",
          "name": "stdout",
          "text": [
            "/bin/bash: line 1: cd: /content/Classification_Regression_Methods/Data_Analysis_Preprocessing.ipynb: Not a directory\n"
          ]
        }
      ]
    },
    {
      "cell_type": "code",
      "source": [
        "!git add ."
      ],
      "metadata": {
        "colab": {
          "base_uri": "https://localhost:8080/"
        },
        "id": "pLBxfX5stgT5",
        "outputId": "0eff313e-05a5-4372-c549-400a16580f28"
      },
      "execution_count": 12,
      "outputs": [
        {
          "output_type": "stream",
          "name": "stdout",
          "text": [
            "fatal: not a git repository (or any of the parent directories): .git\n"
          ]
        }
      ]
    },
    {
      "cell_type": "code",
      "source": [
        "!cd /content/Classification_Regression_Methods"
      ],
      "metadata": {
        "id": "P3EcPtVztoHw"
      },
      "execution_count": 11,
      "outputs": []
    },
    {
      "cell_type": "code",
      "source": [],
      "metadata": {
        "id": "oxH2bgjZtwOi"
      },
      "execution_count": null,
      "outputs": []
    }
  ]
}