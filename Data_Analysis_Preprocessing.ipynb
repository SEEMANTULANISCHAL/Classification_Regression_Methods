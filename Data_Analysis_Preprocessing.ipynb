{
 "cells": [
  {
   "cell_type": "code",
   "execution_count": 5,
   "id": "e8fadf54-b6de-4a2d-8313-314e86e04af6",
   "metadata": {},
   "outputs": [],
   "source": [
    "import pandas as pd\n",
    "import numpy as np\n",
    "import matplotlib.pyplot as plt\n",
    "import seaborn as sns\n"
   ]
  },
  {
   "cell_type": "code",
   "execution_count": 7,
   "id": "df259e11-75e7-47f9-9b13-80b41185ffe0",
   "metadata": {},
   "outputs": [],
   "source": [
    "penguins = pd.read_csv('C:/Users/HP/Desktop/Classification_Regression_Methods/noisy_datasets/noisy_datasets/penguins.csv')\n",
    "\n",
    "dataset1 = pd.read_csv('C:/Users/HP/Desktop/Classification_Regression_Methods/noisy_datasets/noisy_datasets/emissions_by_country.csv')\n",
    "dataset2 = pd.read_csv('C:/Users/HP/Desktop/Classification_Regression_Methods/noisy_datasets/noisy_datasets/diamond.csv')\n",
    "\n"
   ]
  },
  {
   "cell_type": "code",
   "execution_count": 10,
   "id": "f9557e6c-ffe4-4091-a315-f1740e9f93f3",
   "metadata": {},
   "outputs": [
    {
     "name": "stdout",
     "output_type": "stream",
     "text": [
      "       calorie requirement  average sleep duration  bill_length_mm  \\\n",
      "count           344.000000              344.000000      337.000000   \n",
      "mean           5270.002907               10.447674       45.494214   \n",
      "std            1067.959116                2.265895       10.815787   \n",
      "min            3504.000000                7.000000       32.100000   \n",
      "25%            4403.000000                9.000000       39.500000   \n",
      "50%            5106.500000               10.000000       45.100000   \n",
      "75%            6212.750000               12.000000       49.000000   \n",
      "max            7197.000000               14.000000      124.300000   \n",
      "\n",
      "       bill_depth_mm  flipper_length_mm  body_mass_g         year  \n",
      "count     333.000000         336.000000   339.000000   342.000000  \n",
      "mean       18.018318         197.764881  4175.463127  2008.035088  \n",
      "std         9.241384          27.764491   858.713267     0.816938  \n",
      "min        13.100000          10.000000   882.000000  2007.000000  \n",
      "25%        15.700000         190.000000  3550.000000  2007.000000  \n",
      "50%        17.300000         197.000000  4050.000000  2008.000000  \n",
      "75%        18.700000         213.000000  4750.000000  2009.000000  \n",
      "max       127.260000         231.000000  6300.000000  2009.000000  \n"
     ]
    }
   ],
   "source": [
    "print(penguins.describe())"
   ]
  },
  {
   "cell_type": "code",
   "execution_count": 12,
   "id": "bf85bd01-1d85-44d4-b598-04cdb83fc5a4",
   "metadata": {},
   "outputs": [
    {
     "name": "stdout",
     "output_type": "stream",
     "text": [
      "species                   0\n",
      "island                    0\n",
      "calorie requirement       0\n",
      "average sleep duration    0\n",
      "bill_length_mm            0\n",
      "bill_depth_mm             0\n",
      "flipper_length_mm         0\n",
      "body_mass_g               0\n",
      "gender                    0\n",
      "year                      0\n",
      "dtype: int64\n"
     ]
    }
   ],
   "source": [
    "penguins_clean = penguins.dropna()\n",
    "print(penguins_clean.isnull().sum())\n"
   ]
  },
  {
   "cell_type": "code",
   "execution_count": 14,
   "id": "c82e0270-3423-4479-9f7f-3e2aa278e4a7",
   "metadata": {},
   "outputs": [],
   "source": [
    "numeric_cols = penguins.select_dtypes(include=[np.number]).columns\n",
    "categorical_cols = penguins.select_dtypes(exclude=[np.number]).columns\n"
   ]
  },
  {
   "cell_type": "code",
   "execution_count": 19,
   "id": "598d4976-4066-4929-9d4a-b6e4e42a1e7d",
   "metadata": {},
   "outputs": [
    {
     "name": "stdout",
     "output_type": "stream",
     "text": [
      "species                   0\n",
      "island                    0\n",
      "calorie requirement       0\n",
      "average sleep duration    0\n",
      "bill_length_mm            0\n",
      "bill_depth_mm             0\n",
      "flipper_length_mm         0\n",
      "body_mass_g               0\n",
      "gender                    0\n",
      "year                      0\n",
      "dtype: int64\n"
     ]
    }
   ],
   "source": [
    "def euclidean_distance(row1, row2):\n",
    "    distance = 0.0\n",
    "    for i in range(len(row1)):\n",
    "        if not np.isnan(row1[i]) and not np.isnan(row2[i]):\n",
    "            distance += (row1[i] - row2[i]) ** 2\n",
    "    return np.sqrt(distance)\n",
    "\n",
    "def knn_impute_numeric(data, k=5):\n",
    "    for i in range(data.shape[0]):\n",
    "        for j in range(data.shape[1]):\n",
    "            if np.isnan(data[i, j]):\n",
    "                distances = []\n",
    "                for r in range(data.shape[0]):\n",
    "                    if r != i and not np.isnan(data[r, j]):\n",
    "                        distances.append((euclidean_distance(data[i], data[r]), data[r, j]))\n",
    "\n",
    "                distances.sort(key=lambda x: x[0])\n",
    "                neighbors = [dist[1] for dist in distances[:k]]\n",
    "        \n",
    "                data[i, j] = np.mean(neighbors)\n",
    "    \n",
    "    return data\n",
    "    \n",
    "penguin_numeric_values = penguins[numeric_cols].values  \n",
    "penguin_numeric_imputed = knn_impute_numeric(penguin_numeric_values, k=5)\n",
    "\n",
    "penguins[numeric_cols] = pd.DataFrame(penguin_numeric_imputed, columns=numeric_cols)\n",
    "\n",
    "for col in categorical_cols:\n",
    "    penguins[col] = penguins[col].fillna(penguins[col].mode()[0])\n",
    "print(penguins.isnull().sum())\n",
    "\n",
    "\n"
   ]
  }
 ],
 "metadata": {
  "kernelspec": {
   "display_name": "Python 3 (ipykernel)",
   "language": "python",
   "name": "python3"
  },
  "language_info": {
   "codemirror_mode": {
    "name": "ipython",
    "version": 3
   },
   "file_extension": ".py",
   "mimetype": "text/x-python",
   "name": "python",
   "nbconvert_exporter": "python",
   "pygments_lexer": "ipython3",
   "version": "3.11.3"
  }
 },
 "nbformat": 4,
 "nbformat_minor": 5
}
